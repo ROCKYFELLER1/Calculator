{
 "cells": [
  {
   "cell_type": "code",
   "execution_count": 8,
   "id": "c3b6b6d8",
   "metadata": {},
   "outputs": [
    {
     "name": "stdout",
     "output_type": "stream",
     "text": [
      "Enter first value from 0 to 999:78\n",
      "Enter operator:   r\n",
      "Enter second value from 0 to 999:8\n",
      "6.0\n"
     ]
    }
   ],
   "source": [
    "\n",
    "#The symbols and operators are highlited below.\n",
    " \n",
    "# For the script below an inbuilt function '.Upper()' was incoporated in the script, so that it can\n",
    "# convert lower case to a upper case, which makes the caclulator a case insensitive one.\n",
    "# e.g if the user input a lower case, it will be converted automatically to an upper case.\n",
    "\n",
    "\n",
    "#FOR MULTIPLICATION ENTER M\n",
    "#FOR DIVISION ENTER D\n",
    "#FOR SUBTRACTION ENTER S\n",
    "#FOR ADDITION ENTER A\n",
    "#FOR REMAINDER ENTER R\n",
    "# FOR FACTORIAL ENTER F\n",
    "\n",
    "\n",
    "M = '*'\n",
    "D = '/'\n",
    "S = '-'\n",
    "A = '+'\n",
    "R = '%'\n",
    "\n",
    "\n",
    "val1 = ''\n",
    "val2 = ''\n",
    "operand = ''\n",
    "import pylab as pl\n",
    "num = pl.arange(0,1000, 0.001).tolist()  #pylab was imported so as to have a list of numbers that contains decimal.\n",
    "\n",
    "def calcFunc(val1, operand, val2):\n",
    "    val1 = input('Enter first value from 0 to 999:')\n",
    "    operand = input('Enter operator:   ')\n",
    "    val2 = input('Enter second value from 0 to 999:')\n",
    "    \n",
    "    if float(val1) and float(val2) in num:\n",
    "        val1 = float(val1)\n",
    "        val2 = float(val2)\n",
    "        if operand.upper() == 'M':           \n",
    "            print(round((val1 * val2),2))\n",
    "        elif operand.upper() == 'D':\n",
    "            print(round((val1 / val2),2))\n",
    "        elif operand.upper() == 'S':\n",
    "            print(round((val1 - val2),2))\n",
    "        elif operand.upper() == 'A':\n",
    "            print(round((val1 + val2),2))\n",
    "        elif operand.upper() == 'R':\n",
    "            print(round((val1 % val2),2))\n",
    "        else:\n",
    "             print(\"INVALID OPERATOR!, PLEASE ENTER THE RIGHT OPERATOR\")\n",
    "            \n",
    "    else:\n",
    "        print('You entered an invalid number')\n",
    "\n",
    "    return\n",
    "\n",
    "com = calcFunc(val1, operand, val2)"
   ]
  },
  {
   "cell_type": "code",
   "execution_count": null,
   "id": "6fefd2d8",
   "metadata": {},
   "outputs": [],
   "source": []
  },
  {
   "cell_type": "code",
   "execution_count": null,
   "id": "03d4a8c1",
   "metadata": {},
   "outputs": [],
   "source": []
  }
 ],
 "metadata": {
  "kernelspec": {
   "display_name": "Python 3 (ipykernel)",
   "language": "python",
   "name": "python3"
  },
  "language_info": {
   "codemirror_mode": {
    "name": "ipython",
    "version": 3
   },
   "file_extension": ".py",
   "mimetype": "text/x-python",
   "name": "python",
   "nbconvert_exporter": "python",
   "pygments_lexer": "ipython3",
   "version": "3.9.12"
  }
 },
 "nbformat": 4,
 "nbformat_minor": 5
}
